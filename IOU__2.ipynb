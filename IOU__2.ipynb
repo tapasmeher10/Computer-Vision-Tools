{
  "nbformat": 4,
  "nbformat_minor": 0,
  "metadata": {
    "colab": {
      "name": "IOU_#2.ipynb",
      "provenance": [],
      "authorship_tag": "ABX9TyOa3bRjSqs8XQi1SZp1GP2S",
      "include_colab_link": true
    },
    "kernelspec": {
      "name": "python3",
      "display_name": "Python 3"
    },
    "language_info": {
      "name": "python"
    }
  },
  "cells": [
    {
      "cell_type": "markdown",
      "metadata": {
        "id": "view-in-github",
        "colab_type": "text"
      },
      "source": [
        "<a href=\"https://colab.research.google.com/github/tapasmeher10/Computer-Vision-Tools/blob/main/IOU__2.ipynb\" target=\"_parent\"><img src=\"https://colab.research.google.com/assets/colab-badge.svg\" alt=\"Open In Colab\"/></a>"
      ]
    },
    {
      "cell_type": "code",
      "source": [
        "from keras import backend as K\n",
        "import tensorflow as tf"
      ],
      "metadata": {
        "id": "zRb_ImG6uCkB"
      },
      "execution_count": null,
      "outputs": []
    },
    {
      "cell_type": "code",
      "execution_count": null,
      "metadata": {
        "id": "PXE6NYD1t_ES"
      },
      "outputs": [],
      "source": [
        "def iou_coef(y_true, y_pred, smooth=1):\n",
        "    \"\"\"\n",
        "    IoU = (|X &amp; Y|)/ (|X or Y|)\n",
        "    \"\"\"\n",
        "    intersection = K.sum(K.abs(y_true * y_pred), axis=-1)\n",
        "    union = K.sum((y_true,-1) + K.sum(y_pred,-1) - intersection\n",
        "    return (intersection + smooth) / ( union + smooth)\n",
        "\n",
        "def iou_coef_loss(y_true, y_pred):\n",
        "    return -iou_coef(y_true, y_pred)"
      ]
    }
  ]
}