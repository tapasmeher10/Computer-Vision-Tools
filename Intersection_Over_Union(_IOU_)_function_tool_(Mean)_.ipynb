{
  "nbformat": 4,
  "nbformat_minor": 0,
  "metadata": {
    "colab": {
      "name": "Intersection Over Union( IOU ) function_tool (Mean) .ipynb",
      "provenance": [],
      "authorship_tag": "ABX9TyOf/uoXJ9A7g72yco8jh5q8",
      "include_colab_link": true
    },
    "kernelspec": {
      "name": "python3",
      "display_name": "Python 3"
    },
    "language_info": {
      "name": "python"
    }
  },
  "cells": [
    {
      "cell_type": "markdown",
      "metadata": {
        "id": "view-in-github",
        "colab_type": "text"
      },
      "source": [
        "<a href=\"https://colab.research.google.com/github/tapasmeher10/Computer-Vision-Tools/blob/main/Intersection_Over_Union(_IOU_)_function_tool_(Mean)_.ipynb\" target=\"_parent\"><img src=\"https://colab.research.google.com/assets/colab-badge.svg\" alt=\"Open In Colab\"/></a>"
      ]
    },
    {
      "cell_type": "markdown",
      "source": [
        "## IOU mean"
      ],
      "metadata": {
        "id": "G3b_fuFnpqjo"
      }
    },
    {
      "cell_type": "code",
      "source": [
        "from keras import backend as K\n",
        "import tensorflow as tf"
      ],
      "metadata": {
        "id": "Iiu_Vnxjrz-G"
      },
      "execution_count": 1,
      "outputs": []
    },
    {
      "cell_type": "code",
      "execution_count": 2,
      "metadata": {
        "id": "dTARH83qpFQj"
      },
      "outputs": [],
      "source": [
        "def mean_iou(y_true, y_pred):\n",
        "  prec=[]\n",
        "  for t in np.arange(0.5, 1.0, 0.05):\n",
        "    y_pred_ =tf.to_int32(y_pred > t)\n",
        "    score,up_opt = tf.metrics.mean_iou(y_true, y_pred , 2, y_true)\n",
        "    K.get_session().run(tf.local_variables_initializer())\n",
        "    with tf.control_dependencies([up_opt]):\n",
        "      score = tf.identity(score)\n",
        "    prec.append(score)\n",
        "  return K.mean(K.stack(prec), axis=0)"
      ]
    },
    {
      "cell_type": "code",
      "source": [
        ""
      ],
      "metadata": {
        "id": "8UIqVOp3rWsO"
      },
      "execution_count": 2,
      "outputs": []
    }
  ]
}